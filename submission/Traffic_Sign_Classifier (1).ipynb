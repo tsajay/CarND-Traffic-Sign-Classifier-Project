{
 "cells": [
  {
   "cell_type": "markdown",
   "metadata": {
    "deletable": true,
    "editable": true
   },
   "source": [
    "# Self-Driving Car Engineer Nanodegree\n",
    "\n",
    "## Deep Learning\n",
    "\n",
    "## Project: Build a Traffic Sign Recognition Classifier\n",
    "\n",
    "In this notebook, a template is provided for you to implement your functionality in stages, which is required to successfully complete this project. If additional code is required that cannot be included in the notebook, be sure that the Python code is successfully imported and included in your submission if necessary. \n",
    "\n",
    "> **Note**: Once you have completed all of the code implementations, you need to finalize your work by exporting the iPython Notebook as an HTML document. Before exporting the notebook to html, all of the code cells need to have been run so that reviewers can see the final implementation and output. You can then export the notebook by using the menu above and navigating to  \\n\",\n",
    "    \"**File -> Download as -> HTML (.html)**. Include the finished document along with this notebook as your submission. \n",
    "\n",
    "In addition to implementing code, there is a writeup to complete. The writeup should be completed in a separate file, which can be either a markdown file or a pdf document. There is a [write up template](https://github.com/udacity/CarND-Traffic-Sign-Classifier-Project/blob/master/writeup_template.md) that can be used to guide the writing process. Completing the code template and writeup template will cover all of the [rubric points](https://review.udacity.com/#!/rubrics/481/view) for this project.\n",
    "\n",
    "The [rubric](https://review.udacity.com/#!/rubrics/481/view) contains \"Stand Out Suggestions\" for enhancing the project beyond the minimum requirements. The stand out suggestions are optional. If you decide to pursue the \"stand out suggestions\", you can include the code in this Ipython notebook and also discuss the results in the writeup file.\n",
    "\n",
    "\n",
    ">**Note:** Code and Markdown cells can be executed using the **Shift + Enter** keyboard shortcut. In addition, Markdown cells can be edited by typically double-clicking the cell to enter edit mode."
   ]
  },
  {
   "cell_type": "markdown",
   "metadata": {
    "deletable": true,
    "editable": true
   },
   "source": [
    "---\n",
    "## Step 0: Load The Data"
   ]
  },
  {
   "cell_type": "code",
   "execution_count": 53,
   "metadata": {
    "collapsed": false,
    "deletable": true,
    "editable": true
   },
   "outputs": [],
   "source": [
    "# Load pickled data\n",
    "import pickle\n",
    "\n",
    "# TODO: Fill this in based on where you saved the training and testing data\n",
    "\n",
    "training_file = \"train.p\"\n",
    "validation_file = \"valid.p\"\n",
    "testing_file = \"test.p\"\n",
    "\n",
    "with open(training_file, mode='rb') as f:\n",
    "    train = pickle.load(f)\n",
    "with open(validation_file, mode='rb') as f:\n",
    "    valid = pickle.load(f)\n",
    "with open(testing_file, mode='rb') as f:\n",
    "    test = pickle.load(f)\n",
    "    \n",
    "X_train, y_train = train['features'], train['labels']\n",
    "X_valid, y_valid = valid['features'], valid['labels']\n",
    "X_test, y_test = test['features'], test['labels']"
   ]
  },
  {
   "cell_type": "markdown",
   "metadata": {
    "deletable": true,
    "editable": true
   },
   "source": [
    "---\n",
    "\n",
    "## Step 1: Dataset Summary & Exploration\n",
    "\n",
    "The pickled data is a dictionary with 4 key/value pairs:\n",
    "\n",
    "- `'features'` is a 4D array containing raw pixel data of the traffic sign images, (num examples, width, height, channels).\n",
    "- `'labels'` is a 1D array containing the label/class id of the traffic sign. The file `signnames.csv` contains id -> name mappings for each id.\n",
    "- `'sizes'` is a list containing tuples, (width, height) representing the original width and height the image.\n",
    "- `'coords'` is a list containing tuples, (x1, y1, x2, y2) representing coordinates of a bounding box around the sign in the image. **THESE COORDINATES ASSUME THE ORIGINAL IMAGE. THE PICKLED DATA CONTAINS RESIZED VERSIONS (32 by 32) OF THESE IMAGES**\n",
    "\n",
    "Complete the basic data summary below. Use python, numpy and/or pandas methods to calculate the data summary rather than hard coding the results. For example, the [pandas shape method](http://pandas.pydata.org/pandas-docs/stable/generated/pandas.DataFrame.shape.html) might be useful for calculating some of the summary results. "
   ]
  },
  {
   "cell_type": "markdown",
   "metadata": {
    "deletable": true,
    "editable": true
   },
   "source": [
    "### Provide a Basic Summary of the Data Set Using Python, Numpy and/or Pandas"
   ]
  },
  {
   "cell_type": "code",
   "execution_count": 54,
   "metadata": {
    "collapsed": false,
    "deletable": true,
    "editable": true
   },
   "outputs": [
    {
     "name": "stdout",
     "output_type": "stream",
     "text": [
      "Number of raw training examples = 34799\n",
      "Number of raw testing examples = 12630\n",
      "Image data shape = (32, 32, 3)\n",
      "Number of classes = 43\n"
     ]
    }
   ],
   "source": [
    "### Replace each question mark with the appropriate value. \n",
    "### Use python, pandas or numpy methods rather than hard coding the results\n",
    "\n",
    "# Number of training examples\n",
    "n_train = len(X_train)\n",
    "\n",
    "#  Number of testing examples.\n",
    "n_test = len(X_test)\n",
    "\n",
    "# What's the shape of an traffic sign image?\n",
    "image_shape = X_train[0].shape\n",
    "\n",
    "# How many unique classes/labels there are in the dataset.\n",
    "n_classes = len(set(train['labels']))\n",
    "\n",
    "print(\"Number of raw training examples =\", n_train)\n",
    "print(\"Number of raw testing examples =\", n_test)\n",
    "print(\"Image data shape =\", image_shape)\n",
    "print(\"Number of classes =\", n_classes)"
   ]
  },
  {
   "cell_type": "markdown",
   "metadata": {
    "deletable": true,
    "editable": true
   },
   "source": [
    "### Include an exploratory visualization of the dataset"
   ]
  },
  {
   "cell_type": "markdown",
   "metadata": {
    "deletable": true,
    "editable": true
   },
   "source": [
    "Visualize the German Traffic Signs Dataset using the pickled file(s). This is open ended, suggestions include: plotting traffic sign images, plotting the count of each sign, etc.\n",
    "\n",
    "The [Matplotlib](http://matplotlib.org/) [examples](http://matplotlib.org/examples/index.html) and [gallery](http://matplotlib.org/gallery.html) pages are a great resource for doing visualizations in Python.\n",
    "\n",
    "**NOTE:** It's recommended you start with something simple first. If you wish to do more, come back to it after you've completed the rest of the sections."
   ]
  },
  {
   "cell_type": "code",
   "execution_count": 55,
   "metadata": {
    "collapsed": false,
    "deletable": true,
    "editable": true
   },
   "outputs": [
    {
     "data": {
      "image/png": "[encoded data removed]",
      "text/plain": [
       "<matplotlib.figure.Figure at 0x7f6b7797c940>"
      ]
     },
     "metadata": {},
     "output_type": "display_data"
    }
   ],
   "source": [
    "### Data exploration visualization code goes here.\n",
    "### Feel free to use as many code cells as needed.\n",
    "import matplotlib.pyplot as plt\n",
    "# Visualizations will be shown in the notebook.\n",
    "%matplotlib inline\n",
    "\n",
    "#!/usr/bin/env python\n",
    "import numpy as np\n",
    "import matplotlib.mlab as mlab\n",
    "import matplotlib.cm as cm\n",
    "import matplotlib.pyplot as plt\n",
    "\n",
    "predict_dict = {}\n",
    "with open(\"signnames.csv\", mode=\"r\") as f:\n",
    "    skipped_first = False\n",
    "    for line in f:\n",
    "        if (not skipped_first):\n",
    "            skipped_first = True\n",
    "            continue\n",
    "        k,v = line.strip().split(\",\")\n",
    "        predict_dict[int(k)] = v\n",
    "\n",
    "freq = np.zeros(n_classes)\n",
    "for l in train['labels']:\n",
    "    freq[l] += 1\n",
    "\n",
    "top_n_classes =  10\n",
    "if (n_classes < 10):\n",
    "    top_n_classes = n_classes  \n",
    "freq_sorted = freq.argsort()[-top_n_classes:][::-1]\n",
    "freq_sorted_classes = [predict_dict[k] for k in freq_sorted]\n",
    "\n",
    "# A bar chart with top-10 category of images\n",
    "\n",
    "ind = np.arange(top_n_classes)  # the x locations for the groups\n",
    "width = 0.35       # the width of the bars\n",
    "\n",
    "fig, ax = plt.subplots()\n",
    "fig.bottom = 0.5\n",
    "plt.tight_layout()\n",
    "\n",
    "colors = cm.rainbow(np.linspace(0, 1, 10))\n",
    "ax.bar(ind, [freq[val] for val in freq_sorted] , width, color=colors)\n",
    "\n",
    "# add some text for labels, title and axes ticks\n",
    "ax.set_ylabel('#Images in training set')\n",
    "ax.set_title('Frequency of common image classes in training set')\n",
    "ax.set_xticks(ind + width / 2)\n",
    "ax.set_xticklabels(freq_sorted_classes, rotation=45, ha='right')\n",
    "\n",
    "\n",
    "plt.show()\n",
    "fig.savefig('./visualization.jpg')\n",
    "\n",
    "SHOW_PIE_CHART_FOR_LARGE_SETS = False\n",
    "\n",
    "if (SHOW_PIE_CHART_FOR_LARGE_SETS or n_classes <= 10): \n",
    "   \n",
    "\n",
    "    # Data to plot\n",
    "    labels = [predict_dict[v] for v in range(n_classes)]\n",
    "    sizes = freq\n",
    "    a = np.random.random(n_classes)\n",
    "    colors = np.random.shuffle(cm.Set1(np.arange(n_classes)/float(n_classes)))\n",
    " \n",
    "    # Plot\n",
    "    plt.pie(sizes, labels=labels, colors=colors,\n",
    "        shadow=True, startangle=140)\n",
    " \n",
    "    plt.axis('equal')\n",
    "    plt.show()\n"
   ]
  },
  {
   "cell_type": "markdown",
   "metadata": {
    "deletable": true,
    "editable": true
   },
   "source": [
    "----\n",
    "\n",
    "## Step 2: Design and Test a Model Architecture\n",
    "\n",
    "Design and implement a deep learning model that learns to recognize traffic signs. Train and test your model on the [German Traffic Sign Dataset](http://benchmark.ini.rub.de/?section=gtsrb&subsection=dataset).\n",
    "\n",
    "The LeNet-5 implementation shown in the [classroom](https://classroom.udacity.com/nanodegrees/nd013/parts/fbf77062-5703-404e-b60c-95b78b2f3f9e/modules/6df7ae49-c61c-4bb2-a23e-6527e69209ec/lessons/601ae704-1035-4287-8b11-e2c2716217ad/concepts/d4aca031-508f-4e0b-b493-e7b706120f81) at the end of the CNN lesson is a solid starting point. You'll have to change the number of classes and possibly the preprocessing, but aside from that it's plug and play! \n",
    "\n",
    "With the LeNet-5 solution from the lecture, you should expect a validation set accuracy of about 0.89. To meet specifications, the validation set accuracy will need to be at least 0.93. It is possible to get an even higher accuracy, but 0.93 is the minimum for a successful project submission. \n",
    "\n",
    "There are various aspects to consider when thinking about this problem:\n",
    "\n",
    "- Neural network architecture (is the network over or underfitting?)\n",
    "- Play around preprocessing techniques (normalization, rgb to grayscale, etc)\n",
    "- Number of examples per label (some have more than others).\n",
    "- Generate fake data.\n",
    "\n",
    "Here is an example of a [published baseline model on this problem](http://yann.lecun.com/exdb/publis/pdf/sermanet-ijcnn-11.pdf). It's not required to be familiar with the approach used in the paper but, it's good practice to try to read papers like these."
   ]
  },
  {
   "cell_type": "markdown",
   "metadata": {
    "deletable": true,
    "editable": true
   },
   "source": [
    "### Pre-process the Data Set (normalization, grayscale, etc.)"
   ]
  },
  {
   "cell_type": "markdown",
   "metadata": {
    "deletable": true,
    "editable": true
   },
   "source": [
    "Use the code cell (or multiple code cells, if necessary) to implement the first step of your project."
   ]
  },
  {
   "cell_type": "markdown",
   "metadata": {
    "deletable": true,
    "editable": true
   },
   "source": [
    "Add a function to augment a set of images with shifts.\n"
   ]
  },
  {
   "cell_type": "code",
   "execution_count": 56,
   "metadata": {
    "collapsed": true,
    "deletable": true,
    "editable": true
   },
   "outputs": [],
   "source": [
    "### Preprocess the data here. Preprocessing steps could include normalization, converting to grayscale, etc.\n",
    "### Feel free to use as many code cells as needed.\n",
    "\n",
    "\n",
    "\n",
    "from random import randint\n",
    "from scipy.ndimage.interpolation import shift \n",
    "\n",
    "'''\n",
    "images is a 4-D vector. num_images X width X height X num_channels\n",
    "\n",
    "Returns a 4-D vector of the same size. Images are shifted randomly by one pixel either up/down/left/right\n",
    "'''\n",
    "def addShiftsToImages(images):\n",
    "    \n",
    "    shift_vectors = [[0, -1, 0], # Up \n",
    "                     [0,  1, 0], # Down\n",
    "                     [-1, 0, 0], # Left\n",
    "                     [1,  0, 0]] # Right\n",
    "    \n",
    "    for image in images:\n",
    "        direction = randint(0,3)\n",
    "        image = shift(image, shift_vectors[direction])\n",
    "    \n",
    "    return images"
   ]
  },
  {
   "cell_type": "markdown",
   "metadata": {
    "deletable": true,
    "editable": true
   },
   "source": [
    "Add a function to normalize multi-channel images.\n"
   ]
  },
  {
   "cell_type": "code",
   "execution_count": 57,
   "metadata": {
    "collapsed": true,
    "deletable": true,
    "editable": true
   },
   "outputs": [],
   "source": [
    "# Convert image to grayscale.\n",
    "import numpy as np\n",
    "from PIL import Image\n",
    "\n",
    "'''\n",
    "images is a 4-dimensional vector. num_images X width X height X num_channels\n",
    "\n",
    "Returns a 4-dimensional vector.  num_images X width X height X 1\n",
    "image pixels are normalized with the mean and std-dev across all pixels across all images. \n",
    "'''\n",
    "def normalizeMultiChannelImages(images):\n",
    "\n",
    "    # Convert to gray-scale.\n",
    "    images_gray = np.mean(images, axis=3)\n",
    "\n",
    "    # Subtract the mean and divide by std-dev , i.e., normalize the images.\n",
    "    images_gray_mean = np.mean(images_gray)\n",
    "    images_gray_std = np.std(images_gray)\n",
    "    images_gray_norm =  (images_gray - images_gray_mean) / images_gray_std # images_gray\n",
    "    images_gray_norm = np.reshape(images_gray_norm, (images_gray_norm.shape[0], images_gray_norm.shape[1], \n",
    "                                              images_gray_norm.shape[2], 1))\n",
    "    return images_gray_norm"
   ]
  },
  {
   "cell_type": "markdown",
   "metadata": {
    "deletable": true,
    "editable": true
   },
   "source": [
    "First copy the training set to an augmentation set, and then concatenate the 2 sets \n",
    "to effectively double the training data.\n",
    "\n",
    "Also, serialize this new data set. Helps to not perform this operation repeatedly during training.\n"
   ]
  },
  {
   "cell_type": "code",
   "execution_count": 58,
   "metadata": {
    "collapsed": false,
    "deletable": true,
    "editable": true
   },
   "outputs": [],
   "source": [
    "import os.path\n",
    "\n",
    "if (not (os.path.exists(\"X_train_augment.p\") and os.path.exists(\"y_train_augment.p\"))):\n",
    "    # Make a copy\n",
    "    X_train_augment = np.copy(X_train)\n",
    "    y_train_augment = np.copy(y_train)\n",
    "\n",
    "    # Augment the data-set by shifts.\n",
    "    X_train_augment = addShiftsToImages(X_train_augment)\n",
    "\n",
    "    # Concatenate to original dataset.\n",
    "    X_train = np.concatenate((X_train, X_train_augment))\n",
    "    y_train = np.concatenate((y_train, y_train_augment))\n",
    "\n",
    "    # Save.\n",
    "    with open(\"X_train_augment.p\", mode='wb') as f:\n",
    "        pickle.dump(X_train, f)\n",
    "    with open(\"y_train_augment.p\", mode='wb') as f:\n",
    "        pickle.dump(y_train, f)\n",
    "else:\n",
    "    #Load from saved dataset.\n",
    "\n",
    "    with open(\"X_train_augment.p\", mode='rb') as f:\n",
    "        X_train = pickle.load(f)\n",
    "    with open(\"y_train_augment.p\", mode='rb') as f:\n",
    "        y_train = pickle.load(f)\n",
    "\n",
    "X_train_gray_norm = normalizeMultiChannelImages(X_train)"
   ]
  },
  {
   "cell_type": "markdown",
   "metadata": {
    "deletable": true,
    "editable": true
   },
   "source": [
    "Display a randomly picked image.\n"
   ]
  },
  {
   "cell_type": "code",
   "execution_count": 59,
   "metadata": {
    "collapsed": false,
    "deletable": true,
    "editable": true
   },
   "outputs": [
    {
     "name": "stdout",
     "output_type": "stream",
     "text": [
      "18\n"
     ]
    },
    {
     "data": {
      "image/png": "[encoded data removed]",
      "text/plain": [
       "<matplotlib.figure.Figure at 0x7f6b68e65710>"
      ]
     },
     "metadata": {},
     "output_type": "display_data"
    },
    {
     "data": {
      "image/png": "[encoded data removed]",
      "text/plain": [
       "<matplotlib.figure.Figure at 0x7f6b68e65128>"
      ]
     },
     "metadata": {},
     "output_type": "display_data"
    }
   ],
   "source": [
    "# Display an image.\n",
    "img_index = randint(0, len(X_train))\n",
    "image = X_train_gray_norm[img_index].squeeze()\n",
    "plt.figure(figsize=(1,1))\n",
    "plt.imshow(image, cmap=\"gray\")\n",
    "plt.savefig('gray_sample.jpg')\n",
    "\n",
    "image = X_train[img_index].squeeze()\n",
    "plt.figure(figsize=(1,1))\n",
    "plt.imshow(image)\n",
    "plt.savefig('original_sample.jpg')\n",
    "\n",
    "print(y_train[img_index])"
   ]
  },
  {
   "cell_type": "markdown",
   "metadata": {
    "deletable": true,
    "editable": true
   },
   "source": [
    "### Model Architecture"
   ]
  },
  {
   "cell_type": "code",
   "execution_count": 60,
   "metadata": {
    "collapsed": false,
    "deletable": true,
    "editable": true
   },
   "outputs": [],
   "source": [
    "from sklearn.utils import shuffle\n",
    "\n",
    "X_train_gray_norm, y_train = shuffle(X_train_gray_norm, y_train)\n",
    "\n",
    "\n",
    "\n",
    "# Basic template from LeNet with the following modifications.\n",
    "# One extra convolution layer.\n",
    "# One extra fully-connected layer.\n",
    "# Parameters changed to accomodate for native 32x32 image sizes.\n",
    "\n",
    "# After various experimentation, batch size of 128 still was useful\n",
    "# 40 batches was enough for convergence in all cases.\n",
    "# Ran the program 25 times and it managed to reach convergence all times.\n",
    "# We do shuffle the data and augment it with random shifts. \n",
    "\n",
    "import tensorflow as tf\n",
    "\n",
    "EPOCHS = 40\n",
    "BATCH_SIZE = 128\n",
    "\n",
    "from tensorflow.contrib.layers import flatten\n",
    "\n",
    "def LeNet(x):    \n",
    "    # Arguments used for tf.truncated_normal, randomly defines variables for the weights and biases for each layer\n",
    "    mu = 0\n",
    "    sigma = 0.1\n",
    "    \n",
    "    # SOLUTION: Layer 1: Convolutional. Input = 32x32x1. Output = 28x28x12.\n",
    "    conv1_W = tf.Variable(tf.truncated_normal(shape=(5, 5, 1, 12), mean = mu, stddev = sigma))\n",
    "    conv1_b = tf.Variable(tf.zeros(12))\n",
    "    conv1   = tf.nn.conv2d(x, conv1_W, strides=[1, 1, 1, 1], padding='VALID') + conv1_b\n",
    "\n",
    "    # SOLUTION: Activation.\n",
    "    conv1 = tf.nn.relu(conv1)\n",
    "\n",
    "    # SOLUTION: Pooling. Input = 28x28x12. Output = 14x14x12.\n",
    "    conv1 = tf.nn.max_pool(conv1, ksize=[1, 2, 2, 1], strides=[1, 2, 2, 1], padding='VALID')\n",
    "\n",
    "    # SOLUTION: Layer 2: Convolutional. Output = 10x10x16.\n",
    "    conv2_W = tf.Variable(tf.truncated_normal(shape=(5, 5, 12, 16), mean = mu, stddev = sigma))\n",
    "    conv2_b = tf.Variable(tf.zeros(16))\n",
    "    conv2   = tf.nn.conv2d(conv1, conv2_W, strides=[1, 1, 1, 1], padding='VALID') + conv2_b\n",
    "    \n",
    "    # SOLUTION: Activation.\n",
    "    conv2 = tf.nn.relu(conv2)\n",
    "\n",
    "    # SOLUTION: Pooling. Input = 10x10x16. Output = 5x5x16.\n",
    "    conv2 = tf.nn.max_pool(conv2, ksize=[1, 2, 2, 1], strides=[1, 2, 2, 1], padding='VALID')\n",
    "\n",
    "    # SOLUTION: Flatten. Input = 5x5x16. Output = 400.\n",
    "    fc0   = flatten(conv2)\n",
    "    \n",
    "    # SOLUTION: Layer 3: Fully Connected. Input = 400. Output = 240.\n",
    "    fc1_W = tf.Variable(tf.truncated_normal(shape=(400, 240), mean = mu, stddev = sigma))\n",
    "    fc1_b = tf.Variable(tf.zeros(240))\n",
    "    fc1   = tf.matmul(fc0, fc1_W) + fc1_b\n",
    "    \n",
    "    # SOLUTION: Activation.\n",
    "    fc1    = tf.nn.relu(fc1)\n",
    "\n",
    "    # SOLUTION: Layer 3.1: Fully Connected. Input = 400. Output = 120.\n",
    "    fc1_1_W = tf.Variable(tf.truncated_normal(shape=(240, 160), mean = mu, stddev = sigma))\n",
    "    fc1_1_b = tf.Variable(tf.zeros(160))\n",
    "    fc1_1   = tf.matmul(fc1, fc1_1_W) + fc1_1_b\n",
    "    \n",
    "    # SOLUTION: Activation.\n",
    "    fc1_1    = tf.nn.relu(fc1_1)\n",
    "\n",
    "\n",
    "    # SOLUTION: Layer 4: Fully Connected. Input = 120. Output = 96.\n",
    "    fc2_W  = tf.Variable(tf.truncated_normal(shape=(160, 96), mean = mu, stddev = sigma))\n",
    "    fc2_b  = tf.Variable(tf.zeros(96))\n",
    "    fc2    = tf.matmul(fc1_1, fc2_W) + fc2_b\n",
    "    \n",
    "    # SOLUTION: Activation.\n",
    "    fc2    = tf.nn.relu(fc2)\n",
    "\n",
    "    # SOLUTION: Layer 5: Fully Connected. Input = 84. Output = n_classes.\n",
    "    fc3_W  = tf.Variable(tf.truncated_normal(shape=(96, n_classes), mean = mu, stddev = sigma))\n",
    "    fc3_b  = tf.Variable(tf.zeros(n_classes))\n",
    "    logits = tf.matmul(fc2, fc3_W) + fc3_b\n",
    "    \n",
    "    return logits"
   ]
  },
  {
   "cell_type": "markdown",
   "metadata": {
    "deletable": true,
    "editable": true
   },
   "source": [
    "### Train, Validate and Test the Model"
   ]
  },
  {
   "cell_type": "markdown",
   "metadata": {
    "deletable": true,
    "editable": true
   },
   "source": [
    "A validation set can be used to assess how well the model is performing. A low accuracy on the training and validation\n",
    "sets imply underfitting. A high accuracy on the training set but low accuracy on the validation set implies overfitting."
   ]
  },
  {
   "cell_type": "code",
   "execution_count": 61,
   "metadata": {
    "collapsed": true,
    "deletable": true,
    "editable": true
   },
   "outputs": [],
   "source": [
    "### Train your model here.\n",
    "\n",
    "# Only one channel, since we've converted the image to gray-scale.\n",
    "x = tf.placeholder(tf.float32, (None, X_train_gray_norm[0].shape[0], X_train_gray_norm[0].shape[1], 1))\n",
    "y = tf.placeholder(tf.int32, (None))\n",
    "one_hot_y = tf.one_hot(y, n_classes)"
   ]
  },
  {
   "cell_type": "code",
   "execution_count": 62,
   "metadata": {
    "collapsed": false,
    "deletable": true,
    "editable": true
   },
   "outputs": [],
   "source": [
    "rate = 0.001\n",
    "\n",
    "logits = LeNet(x)\n",
    "cross_entropy = tf.nn.softmax_cross_entropy_with_logits(logits=logits, labels=one_hot_y)\n",
    "loss_operation = tf.reduce_mean(cross_entropy)\n",
    "optimizer = tf.train.AdamOptimizer(learning_rate = rate)\n",
    "training_operation = optimizer.minimize(loss_operation)\n",
    "\n",
    "correct_prediction = tf.equal(tf.argmax(logits, 1), tf.argmax(one_hot_y, 1))\n",
    "accuracy_operation = tf.reduce_mean(tf.cast(correct_prediction, tf.float32))\n",
    "saver = tf.train.Saver()"
   ]
  },
  {
   "cell_type": "code",
   "execution_count": 63,
   "metadata": {
    "collapsed": true,
    "deletable": true,
    "editable": true
   },
   "outputs": [],
   "source": [
    "def evaluate(X_data, y_data):\n",
    "    num_examples = len(X_data)\n",
    "    total_accuracy = 0\n",
    "    sess = tf.get_default_session()\n",
    "    for offset in range(0, num_examples, BATCH_SIZE):\n",
    "        batch_x, batch_y = X_data[offset:offset+BATCH_SIZE], y_data[offset:offset+BATCH_SIZE]\n",
    "        accuracy = sess.run(accuracy_operation, feed_dict={x: batch_x, y: batch_y})\n",
    "        total_accuracy += (accuracy * len(batch_x))\n",
    "    return total_accuracy / num_examples"
   ]
  },
  {
   "cell_type": "code",
   "execution_count": 65,
   "metadata": {
    "collapsed": false,
    "deletable": true,
    "editable": true
   },
   "outputs": [
    {
     "name": "stdout",
     "output_type": "stream",
     "text": [
      "Training...\n",
      "\n",
      "EPOCH 1 ...\n",
      "Validation Accuracy = 0.8821\n",
      "Delta Validation Accuracy = 0.8821\n",
      "\n",
      "EPOCH 2 ...\n",
      "Validation Accuracy = 0.9084\n",
      "Delta Validation Accuracy = 0.0263\n",
      "\n",
      "EPOCH 3 ...\n",
      "Validation Accuracy = 0.9166\n",
      "Delta Validation Accuracy = 0.0082\n",
      "\n",
      "EPOCH 4 ...\n",
      "Validation Accuracy = 0.9302\n",
      "Delta Validation Accuracy = 0.0136\n",
      "\n",
      "EPOCH 5 ...\n",
      "Validation Accuracy = 0.9376\n",
      "Delta Validation Accuracy = 0.0075\n",
      "\n",
      "EPOCH 6 ...\n",
      "Validation Accuracy = 0.9254\n",
      "Delta Validation Accuracy = 0.0122\n",
      "\n",
      "EPOCH 7 ...\n",
      "Validation Accuracy = 0.9345\n",
      "Delta Validation Accuracy = 0.0091\n",
      "\n",
      "EPOCH 8 ...\n",
      "Validation Accuracy = 0.9456\n",
      "Delta Validation Accuracy = 0.0111\n",
      "\n",
      "EPOCH 9 ...\n",
      "Validation Accuracy = 0.9351\n",
      "Delta Validation Accuracy = 0.0104\n",
      "\n",
      "EPOCH 10 ...\n",
      "Validation Accuracy = 0.9410\n",
      "Delta Validation Accuracy = 0.0059\n",
      "\n",
      "EPOCH 11 ...\n",
      "Validation Accuracy = 0.9293\n",
      "Delta Validation Accuracy = 0.0118\n",
      "\n",
      "EPOCH 12 ...\n",
      "Validation Accuracy = 0.9329\n",
      "Delta Validation Accuracy = 0.0036\n",
      "\n",
      "EPOCH 13 ...\n",
      "Validation Accuracy = 0.9526\n",
      "Delta Validation Accuracy = 0.0197\n",
      "\n",
      "EPOCH 14 ...\n",
      "Validation Accuracy = 0.9544\n",
      "Delta Validation Accuracy = 0.0018\n",
      "\n",
      "EPOCH 15 ...\n",
      "Validation Accuracy = 0.9512\n",
      "Delta Validation Accuracy = 0.0032\n",
      "\n",
      "EPOCH 16 ...\n",
      "Validation Accuracy = 0.9522\n",
      "Delta Validation Accuracy = 0.0009\n",
      "\n",
      "EPOCH 17 ...\n",
      "Validation Accuracy = 0.9354\n",
      "Delta Validation Accuracy = 0.0168\n",
      "\n",
      "EPOCH 18 ...\n",
      "Validation Accuracy = 0.9535\n",
      "Delta Validation Accuracy = 0.0181\n",
      "\n",
      "EPOCH 19 ...\n",
      "Validation Accuracy = 0.9435\n",
      "Delta Validation Accuracy = 0.0100\n",
      "\n",
      "EPOCH 20 ...\n",
      "Validation Accuracy = 0.9483\n",
      "Delta Validation Accuracy = 0.0048\n",
      "\n",
      "EPOCH 21 ...\n",
      "Validation Accuracy = 0.9463\n",
      "Delta Validation Accuracy = 0.0020\n",
      "\n",
      "EPOCH 22 ...\n",
      "Validation Accuracy = 0.9485\n",
      "Delta Validation Accuracy = 0.0023\n",
      "\n",
      "EPOCH 23 ...\n",
      "Validation Accuracy = 0.9460\n",
      "Delta Validation Accuracy = 0.0025\n",
      "\n",
      "EPOCH 24 ...\n",
      "Validation Accuracy = 0.9485\n",
      "Delta Validation Accuracy = 0.0025\n",
      "\n",
      "EPOCH 25 ...\n",
      "Validation Accuracy = 0.9546\n",
      "Delta Validation Accuracy = 0.0061\n",
      "\n",
      "EPOCH 26 ...\n",
      "Validation Accuracy = 0.9490\n",
      "Delta Validation Accuracy = 0.0057\n",
      "\n",
      "EPOCH 27 ...\n",
      "Validation Accuracy = 0.9492\n",
      "Delta Validation Accuracy = 0.0002\n",
      "\n",
      "EPOCH 28 ...\n",
      "Validation Accuracy = 0.9580\n",
      "Delta Validation Accuracy = 0.0088\n",
      "\n",
      "EPOCH 29 ...\n",
      "Validation Accuracy = 0.9635\n",
      "Delta Validation Accuracy = 0.0054\n",
      "\n",
      "EPOCH 30 ...\n",
      "Validation Accuracy = 0.9678\n",
      "Delta Validation Accuracy = 0.0043\n",
      "\n",
      "EPOCH 31 ...\n",
      "Validation Accuracy = 0.9662\n",
      "Delta Validation Accuracy = 0.0016\n",
      "\n",
      "EPOCH 32 ...\n",
      "Validation Accuracy = 0.9669\n",
      "Delta Validation Accuracy = 0.0007\n",
      "\n",
      "EPOCH 33 ...\n",
      "Validation Accuracy = 0.9671\n",
      "Delta Validation Accuracy = 0.0002\n",
      "\n",
      "EPOCH 34 ...\n",
      "Validation Accuracy = 0.9667\n",
      "Delta Validation Accuracy = 0.0005\n",
      "\n",
      "EPOCH 35 ...\n",
      "Validation Accuracy = 0.9664\n",
      "Delta Validation Accuracy = 0.0002\n",
      "\n",
      "EPOCH 36 ...\n",
      "Validation Accuracy = 0.9667\n",
      "Delta Validation Accuracy = 0.0002\n",
      "\n",
      "EPOCH 37 ...\n",
      "Validation Accuracy = 0.9664\n",
      "Delta Validation Accuracy = 0.0002\n",
      "\n",
      "EPOCH 38 ...\n",
      "Validation Accuracy = 0.9667\n",
      "Delta Validation Accuracy = 0.0002\n",
      "\n",
      "EPOCH 39 ...\n",
      "Validation Accuracy = 0.9664\n",
      "Delta Validation Accuracy = 0.0002\n",
      "\n",
      "EPOCH 40 ...\n",
      "Validation Accuracy = 0.9667\n",
      "Delta Validation Accuracy = 0.0002\n",
      "\n",
      "Model saved\n"
     ]
    }
   ],
   "source": [
    "X_valid = normalizeMultiChannelImages(X_valid)\n",
    "\n",
    "with tf.Session() as sess:\n",
    "    sess.run(tf.global_variables_initializer())\n",
    "    num_examples = len(X_train_gray_norm)\n",
    "    \n",
    "    print(\"Training...\")\n",
    "    print()\n",
    "    prev_valid_accuracy = 0.0\n",
    "    for i in range(EPOCHS):\n",
    "        X_train_gray_norm, y_train = shuffle(X_train_gray_norm, y_train)\n",
    "        for offset in range(0, num_examples, BATCH_SIZE):\n",
    "            end = offset + BATCH_SIZE\n",
    "            batch_x, batch_y = X_train_gray_norm[offset:end], y_train[offset:end]\n",
    "            sess.run(training_operation, feed_dict={x: batch_x, y: batch_y})\n",
    "            \n",
    "        validation_accuracy = evaluate(X_valid, y_valid)\n",
    "        delta_validation_accuracy = abs(prev_valid_accuracy - validation_accuracy)\n",
    "        print(\"EPOCH {} ...\".format(i+1))\n",
    "        print(\"Validation Accuracy = {:.4f}\".format(validation_accuracy))\n",
    "        print(\"Delta Validation Accuracy = {:.4f}\".format(delta_validation_accuracy))\n",
    "        print()\n",
    "\n",
    "        if ((delta_validation_accuracy < 0.0001) and (validation_accuracy >= 0.945)):\n",
    "            print(\"Achieved desired training convergence\")\n",
    "            break\n",
    "        prev_valid_accuracy = validation_accuracy\n",
    "        \n",
    "    saver.save(sess, './traffic_signals_net')\n",
    "    print(\"Model saved\")\n",
    "\n",
    "    "
   ]
  },
  {
   "cell_type": "code",
   "execution_count": 67,
   "metadata": {
    "collapsed": false,
    "deletable": true,
    "editable": true
   },
   "outputs": [
    {
     "name": "stdout",
     "output_type": "stream",
     "text": [
      "Test Accuracy = 0.941\n"
     ]
    }
   ],
   "source": [
    "### Calculate and report the accuracy on the training and validation set.\n",
    "### Once a final model architecture is selected, \n",
    "### the accuracy on the test set should be calculated and reported as well.\n",
    "### Feel free to use as many code cells as needed.\n",
    "\n",
    "with tf.Session() as sess:\n",
    "    saver.restore(sess, tf.train.latest_checkpoint('.'))\n",
    "\n",
    "    test_accuracy = evaluate(normalizeMultiChannelImages(X_test), y_test)\n",
    "    print(\"Test Accuracy = {:.3f}\".format(test_accuracy))"
   ]
  },
  {
   "cell_type": "markdown",
   "metadata": {
    "deletable": true,
    "editable": true
   },
   "source": [
    "---\n",
    "\n",
    "## Step 3: Test a Model on New Images\n",
    "\n",
    "To give yourself more insight into how your model is working, download at least five pictures of German traffic signs from the web and use your model to predict the traffic sign type.\n",
    "\n",
    "You may find `signnames.csv` useful as it contains mappings from the class id (integer) to the actual sign name."
   ]
  },
  {
   "cell_type": "markdown",
   "metadata": {
    "deletable": true,
    "editable": true
   },
   "source": [
    "### Load and Output the Images"
   ]
  },
  {
   "cell_type": "code",
   "execution_count": 68,
   "metadata": {
    "collapsed": false,
    "deletable": true,
    "editable": true
   },
   "outputs": [
    {
     "data": {
      "image/png": "[encoded data removed]",
      "text/plain": [
       "<matplotlib.figure.Figure at 0x7f6b6923feb8>"
      ]
     },
     "metadata": {},
     "output_type": "display_data"
    },
    {
     "data": {
      "image/png": "[encoded data removed]",
      "text/plain": [
       "<matplotlib.figure.Figure at 0x7f6b68e485c0>"
      ]
     },
     "metadata": {},
     "output_type": "display_data"
    },
    {
     "data": {
      "image/png": "[encoded data removed]",
      "text/plain": [
       "<matplotlib.figure.Figure at 0x7f6b68a97a20>"
      ]
     },
     "metadata": {},
     "output_type": "display_data"
    },
    {
     "data": {
      "image/png": "[encoded data removed]",
      "text/plain": [
       "<matplotlib.figure.Figure at 0x7f6b68e59be0>"
      ]
     },
     "metadata": {},
     "output_type": "display_data"
    },
    {
     "data": {
      "image/png": "[encoded data removed]",
      "text/plain": [
       "<matplotlib.figure.Figure at 0x7f6b68e530f0>"
      ]
     },
     "metadata": {},
     "output_type": "display_data"
    }
   ],
   "source": [
    "### Load the images and plot them here.\n",
    "import cv2\n",
    "\n",
    "# Images downloaded are named \"img1.jpg ... img5.jpg\"\n",
    "# Displaying the images here.\n",
    "rgb_im_32x32 = []\n",
    "for i in range(1,6):\n",
    "    im = cv2.imread(\"img\"+str(i)+\".jpg\")\n",
    "    rgb_im_32x32.append(cv2.resize(im, (32,32)))\n",
    "    image_for_display = rgb_im_32x32[-1].squeeze()\n",
    "    plt.figure(figsize=(1,1))\n",
    "    plt.imshow(image_for_display)\n",
    "\n"
   ]
  },
  {
   "cell_type": "markdown",
   "metadata": {
    "deletable": true,
    "editable": true
   },
   "source": [
    "### Predict the Sign Type for Each Image"
   ]
  },
  {
   "cell_type": "code",
   "execution_count": 69,
   "metadata": {
    "collapsed": false,
    "deletable": true,
    "editable": true
   },
   "outputs": [
    {
     "name": "stdout",
     "output_type": "stream",
     "text": [
      "Prediction (Idx: 26) : Traffic signals \n",
      "Prediction (Idx: 11) : Right-of-way at the next intersection \n",
      "Prediction (Idx: 14) : Stop \n",
      "Prediction (Idx:  3) : Speed limit (60km/h) \n",
      "Prediction (Idx: 13) : Yield \n"
     ]
    }
   ],
   "source": [
    "### Run the predictions here and use the model to output the prediction for each image.\n",
    "### Make sure to pre-process the images with the same pre-processing pipeline used earlier.\n",
    "### Feel free to use as many code cells as needed.\n",
    "\n",
    "\n",
    "\n",
    "        \n",
    "predictions = []\n",
    "with tf.Session() as sess:\n",
    "    saver.restore(sess, tf.train.latest_checkpoint('.'))\n",
    "    for i in range(len(rgb_im_32x32)):\n",
    "        img_for_feed = np.resize(rgb_im_32x32[i].astype(np.float32), (1,32,32,3))\n",
    "        img_for_feed = normalizeMultiChannelImages(img_for_feed)\n",
    "        predict_logits = sess.run(logits, feed_dict={x: img_for_feed})\n",
    "        predictions.append( np.argmax(predict_logits))\n",
    "        print (\"Prediction (Idx: %2d) : %s \" %(predictions[-1], predict_dict[predictions[-1]]))\n",
    "### Feel free to use as many code cells as needed."
   ]
  },
  {
   "cell_type": "markdown",
   "metadata": {
    "deletable": true,
    "editable": true
   },
   "source": [
    "### Analyze Performance"
   ]
  },
  {
   "cell_type": "code",
   "execution_count": 70,
   "metadata": {
    "collapsed": false,
    "deletable": true,
    "editable": true
   },
   "outputs": [
    {
     "name": "stdout",
     "output_type": "stream",
     "text": [
      "Accuracy of predictions: 80.000000%\n"
     ]
    }
   ],
   "source": [
    "### Calculate the accuracy for these 5 new images. \n",
    "### For example, if the model predicted 1 out of 5 signs correctly, it's 20% accurate on these new images.\n",
    "\n",
    "expected_predictions = [25, 11, 14, 3, 13]\n",
    "num_elem = len(expected_predictions)\n",
    "num_same = 0\n",
    "for pred, exp_pred in zip(predictions, expected_predictions):\n",
    "    if (pred == exp_pred):\n",
    "        num_same = num_same + 1\n",
    "\n",
    "accuracy = float(num_same) / float(num_elem)\n",
    "\n",
    "print (\"Accuracy of predictions: %f%%\" %(accuracy * 100.0))\n"
   ]
  },
  {
   "cell_type": "markdown",
   "metadata": {
    "deletable": true,
    "editable": true
   },
   "source": [
    "### Output Top 5 Softmax Probabilities For Each Image Found on the Web"
   ]
  },
  {
   "cell_type": "markdown",
   "metadata": {
    "deletable": true,
    "editable": true
   },
   "source": [
    "For each of the new images, print out the model's softmax probabilities to show the **certainty** of the model's predictions (limit the output to the top 5 probabilities for each image). [`tf.nn.top_k`](https://www.tensorflow.org/versions/r0.12/api_docs/python/nn.html#top_k) could prove helpful here. \n",
    "\n",
    "The example below demonstrates how tf.nn.top_k can be used to find the top k predictions for each image.\n",
    "\n",
    "`tf.nn.top_k` will return the values and indices (class ids) of the top k predictions. So if k=3, for each sign, it'll return the 3 largest probabilities (out of a possible 43) and the correspoding class ids.\n",
    "\n",
    "Take this numpy array as an example. The values in the array represent predictions. The array contains softmax probabilities for five candidate images with six possible classes. `tk.nn.top_k` is used to choose the three classes with the highest probability:\n",
    "\n",
    "```\n",
    "# (5, 6) array\n",
    "a = np.array([[ 0.24879643,  0.07032244,  0.12641572,  0.34763842,  0.07893497,\n",
    "         0.12789202],\n",
    "       [ 0.28086119,  0.27569815,  0.08594638,  0.0178669 ,  0.18063401,\n",
    "         0.15899337],\n",
    "       [ 0.26076848,  0.23664738,  0.08020603,  0.07001922,  0.1134371 ,\n",
    "         0.23892179],\n",
    "       [ 0.11943333,  0.29198961,  0.02605103,  0.26234032,  0.1351348 ,\n",
    "         0.16505091],\n",
    "       [ 0.09561176,  0.34396535,  0.0643941 ,  0.16240774,  0.24206137,\n",
    "         0.09155967]])\n",
    "```\n",
    "\n",
    "Running it through `sess.run(tf.nn.top_k(tf.constant(a), k=3))` produces:\n",
    "\n",
    "```\n",
    "TopKV2(values=array([[ 0.34763842,  0.24879643,  0.12789202],\n",
    "       [ 0.28086119,  0.27569815,  0.18063401],\n",
    "       [ 0.26076848,  0.23892179,  0.23664738],\n",
    "       [ 0.29198961,  0.26234032,  0.16505091],\n",
    "       [ 0.34396535,  0.24206137,  0.16240774]]), indices=array([[3, 0, 5],\n",
    "       [0, 1, 4],\n",
    "       [0, 5, 1],\n",
    "       [1, 3, 5],\n",
    "       [1, 4, 3]], dtype=int32))\n",
    "```\n",
    "\n",
    "Looking just at the first row we get `[ 0.34763842,  0.24879643,  0.12789202]`, you can confirm these are the 3 largest probabilities in `a`. You'll also notice `[3, 0, 5]` are the corresponding indices."
   ]
  },
  {
   "cell_type": "code",
   "execution_count": 75,
   "metadata": {
    "collapsed": false,
    "deletable": true,
    "editable": true
   },
   "outputs": [
    {
     "data": {
      "image/png": "[encoded data removed]",
      "text/plain": [
       "<matplotlib.figure.Figure at 0x7f6b688ddeb8>"
      ]
     },
     "metadata": {},
     "output_type": "display_data"
    },
    {
     "name": "stdout",
     "output_type": "stream",
     "text": [
      "Top 5 prediction probabilities : [[  9.99936461e-01   6.24800814e-05   1.09961309e-06   1.49073642e-08\n",
      "    7.76095366e-09]]\n",
      "Top 5 prediction indices : [[26 18 11 37 33]]\n",
      "Top 5 predictions        : Traffic signals, General caution, Right-of-way at the next intersection, Go straight or left, Turn right ahead\n",
      "Prediction (Idx: 26)     : Traffic signals \n",
      "\n",
      "\n"
     ]
    },
    {
     "data": {
      "image/png": "[encoded data removed]",
      "text/plain": [
       "<matplotlib.figure.Figure at 0x7f6b68838470>"
      ]
     },
     "metadata": {},
     "output_type": "display_data"
    },
    {
     "name": "stdout",
     "output_type": "stream",
     "text": [
      "Top 5 prediction probabilities : [[  1.00000000e+00   5.88503168e-36   1.12103877e-44   0.00000000e+00\n",
      "    0.00000000e+00]]\n",
      "Top 5 prediction indices : [[11 27 40  0  1]]\n",
      "Top 5 predictions        : Right-of-way at the next intersection, Pedestrians, Roundabout mandatory, Speed limit (20km/h), Speed limit (30km/h)\n",
      "Prediction (Idx: 11)     : Right-of-way at the next intersection \n",
      "\n",
      "\n"
     ]
    },
    {
     "data": {
      "image/png": "[encoded data removed]",
      "text/plain": [
       "<matplotlib.figure.Figure at 0x7f6b6882b080>"
      ]
     },
     "metadata": {},
     "output_type": "display_data"
    },
    {
     "name": "stdout",
     "output_type": "stream",
     "text": [
      "Top 5 prediction probabilities : [[  1.00000000e+00   3.92035899e-17   3.58018431e-21   3.13095517e-23\n",
      "    4.94938728e-27]]\n",
      "Top 5 prediction indices : [[14 13 17  1 22]]\n",
      "Top 5 predictions        : Stop, Yield, No entry, Speed limit (30km/h), Bumpy road\n",
      "Prediction (Idx: 14)     : Stop \n",
      "\n",
      "\n"
     ]
    },
    {
     "data": {
      "image/png": "[encoded data removed]",
      "text/plain": [
       "<matplotlib.figure.Figure at 0x7f6b687e0f28>"
      ]
     },
     "metadata": {},
     "output_type": "display_data"
    },
    {
     "name": "stdout",
     "output_type": "stream",
     "text": [
      "Top 5 prediction probabilities : [[  1.00000000e+00   4.60803619e-22   1.10943664e-28   2.23788455e-29\n",
      "    5.83680191e-30]]\n",
      "Top 5 prediction indices : [[ 3 19 31  2 23]]\n",
      "Top 5 predictions        : Speed limit (60km/h), Dangerous curve to the left, Wild animals crossing, Speed limit (50km/h), Slippery road\n",
      "Prediction (Idx:  3)     : Speed limit (60km/h) \n",
      "\n",
      "\n"
     ]
    },
    {
     "data": {
      "image/png": "[encoded data removed]",
      "text/plain": [
       "<matplotlib.figure.Figure at 0x7f6b68738908>"
      ]
     },
     "metadata": {},
     "output_type": "display_data"
    },
    {
     "name": "stdout",
     "output_type": "stream",
     "text": [
      "Top 5 prediction probabilities : [[ 1.  0.  0.  0.  0.]]\n",
      "Top 5 prediction indices : [[13  0  1  2  3]]\n",
      "Top 5 predictions        : Yield, Speed limit (20km/h), Speed limit (30km/h), Speed limit (50km/h), Speed limit (60km/h)\n",
      "Prediction (Idx: 13)     : Yield \n",
      "\n",
      "\n"
     ]
    }
   ],
   "source": [
    "### Print out the top five softmax probabilities for the predictions on the German traffic sign images found on the web. \n",
    "### Feel free to use as many code cells as needed.\n",
    "\n",
    "predictions = []\n",
    "num_top_predictions = 5\n",
    "with tf.Session() as sess:\n",
    "    saver.restore(sess, tf.train.latest_checkpoint('.'))\n",
    "    for i in range(len(rgb_im_32x32)):\n",
    "        img_for_feed = np.resize(rgb_im_32x32[i].astype(np.float32), (1,32,32,3))\n",
    "        img_for_feed = normalizeMultiChannelImages(img_for_feed)\n",
    "        predict_logits = sess.run(logits, feed_dict={x: img_for_feed})\n",
    "        softmax_prob = sess.run(tf.nn.softmax(logits=predict_logits))\n",
    "        top5Predict = sess.run(tf.nn.top_k(tf.constant(softmax_prob), k=num_top_predictions))\n",
    "        top5PredictStr = \", \".join(predict_dict[idx] for idx in top5Predict.indices.flatten())\n",
    "        \n",
    "        ind = np.arange(num_top_predictions)  # the x locations for the groups\n",
    "        width = 0.35       # the width of the bars\n",
    "\n",
    "        fig, ax = plt.subplots()\n",
    "        fig.bottom = 0.5\n",
    "        plt.tight_layout()\n",
    "\n",
    "        colors = cm.rainbow(np.linspace(0, 1, num_top_predictions))\n",
    "        ax.bar(ind, top5Predict.values.flatten() , width, color=colors)\n",
    "\n",
    "        # add some text for labels, title and axes ticks\n",
    "        ax.set_ylabel('Probability (confidence measure)')\n",
    "        ax.set_title('Probability for Image %d'%i)\n",
    "        ax.set_xticks(ind + width / 2)\n",
    "        ax.set_xticklabels([predict_dict[idx] for idx in top5Predict.indices.flatten()], rotation=45, ha='right')\n",
    "\n",
    "\n",
    "        plt.show()\n",
    "\n",
    "        print (\"Top 5 prediction probabilities : %s\" %(top5Predict.values))    \n",
    "        print (\"Top 5 prediction indices : %s\" %(top5Predict.indices))\n",
    "        print (\"Top 5 predictions        : %s\" %(top5PredictStr))\n",
    "        predictions.append( np.argmax(predict_logits))\n",
    "        print (\"Prediction (Idx: %2d)     : %s \" %(predictions[-1], predict_dict[predictions[-1]]))\n",
    "        print()\n",
    "        print()\n",
    "\n",
    "\n"
   ]
  },
  {
   "cell_type": "markdown",
   "metadata": {
    "deletable": true,
    "editable": true
   },
   "source": [
    "---\n",
    "\n",
    "## Step 4: Visualize the Neural Network's State with Test Images\n",
    "\n",
    " This Section is not required to complete but acts as an additional excersise for understaning the output of a neural network's weights. While neural networks can be a great learning device they are often referred to as a black box. We can understand what the weights of a neural network look like better by plotting their feature maps. After successfully training your neural network you can see what it's feature maps look like by plotting the output of the network's weight layers in response to a test stimuli image. From these plotted feature maps, it's possible to see what characteristics of an image the network finds interesting. For a sign, maybe the inner network feature maps react with high activation to the sign's boundary outline or to the contrast in the sign's painted symbol.\n",
    "\n",
    " Provided for you below is the function code that allows you to get the visualization output of any tensorflow weight layer you want. The inputs to the function should be a stimuli image, one used during training or a new one you provided, and then the tensorflow variable name that represents the layer's state during the training process, for instance if you wanted to see what the [LeNet lab's](https://classroom.udacity.com/nanodegrees/nd013/parts/fbf77062-5703-404e-b60c-95b78b2f3f9e/modules/6df7ae49-c61c-4bb2-a23e-6527e69209ec/lessons/601ae704-1035-4287-8b11-e2c2716217ad/concepts/d4aca031-508f-4e0b-b493-e7b706120f81) feature maps looked like for it's second convolutional layer you could enter conv2 as the tf_activation variable.\n",
    "\n",
    "For an example of what feature map outputs look like, check out NVIDIA's results in their paper [End-to-End Deep Learning for Self-Driving Cars](https://devblogs.nvidia.com/parallelforall/deep-learning-self-driving-cars/) in the section Visualization of internal CNN State. NVIDIA was able to show that their network's inner weights had high activations to road boundary lines by comparing feature maps from an image with a clear path to one without. Try experimenting with a similar test to show that your trained network's weights are looking for interesting features, whether it's looking at differences in feature maps from images with or without a sign, or even what feature maps look like in a trained network vs a completely untrained one on the same sign image.\n",
    "\n",
    "<figure>\n",
    " <img src=\"visualize_cnn.png\" width=\"380\" alt=\"Combined Image\" />\n",
    " <figcaption>\n",
    " <p></p> \n",
    " <p style=\"text-align: center;\"> Your output should look something like this (above)</p> \n",
    " </figcaption>\n",
    "</figure>\n",
    " <p></p> \n"
   ]
  },
  {
   "cell_type": "code",
   "execution_count": 76,
   "metadata": {
    "collapsed": true,
    "deletable": true,
    "editable": true
   },
   "outputs": [],
   "source": [
    "### Visualize your network's feature maps here.\n",
    "### Feel free to use as many code cells as needed.\n",
    "\n",
    "# image_input: the test image being fed into the network to produce the feature maps\n",
    "# tf_activation: should be a tf variable name used during your training procedure that represents the calculated state of a specific weight layer\n",
    "# activation_min/max: can be used to view the activation contrast in more detail, by default matplot sets min and max to the actual min and max values of the output\n",
    "# plt_num: used to plot out multiple different weight feature map sets on the same block, just extend the plt number for each new feature map entry\n",
    "\n",
    "def outputFeatureMap(image_input, tf_activation, activation_min=-1, activation_max=-1 ,plt_num=1):\n",
    "    # Here make sure to preprocess your image_input in a way your network expects\n",
    "    # with size, normalization, ect if needed\n",
    "    # image_input =\n",
    "    # Note: x should be the same name as your network's tensorflow data placeholder variable\n",
    "    # If you get an error tf_activation is not defined it maybe having trouble accessing the variable from inside a function\n",
    "    activation = tf_activation.eval(session=sess,feed_dict={x : image_input})\n",
    "    featuremaps = activation.shape[3]\n",
    "    plt.figure(plt_num, figsize=(15,15))\n",
    "    for featuremap in range(featuremaps):\n",
    "        plt.subplot(6,8, featuremap+1) # sets the number of feature maps to show on each row and column\n",
    "        plt.title('FeatureMap ' + str(featuremap)) # displays the feature map number\n",
    "        if activation_min != -1 & activation_max != -1:\n",
    "            plt.imshow(activation[0,:,:, featuremap], interpolation=\"nearest\", vmin =activation_min, vmax=activation_max, cmap=\"gray\")\n",
    "        elif activation_max != -1:\n",
    "            plt.imshow(activation[0,:,:, featuremap], interpolation=\"nearest\", vmax=activation_max, cmap=\"gray\")\n",
    "        elif activation_min !=-1:\n",
    "            plt.imshow(activation[0,:,:, featuremap], interpolation=\"nearest\", vmin=activation_min, cmap=\"gray\")\n",
    "        else:\n",
    "            plt.imshow(activation[0,:,:, featuremap], interpolation=\"nearest\", cmap=\"gray\")"
   ]
  },
  {
   "cell_type": "markdown",
   "metadata": {
    "deletable": true,
    "editable": true
   },
   "source": [
    "### Question 9\n",
    "\n",
    "Discuss how you used the visual output of your trained network's feature maps to show that it had learned to look for interesting characteristics in traffic sign images\n"
   ]
  },
  {
   "cell_type": "markdown",
   "metadata": {
    "deletable": true,
    "editable": true
   },
   "source": [
    "**Answer:**"
   ]
  },
  {
   "cell_type": "markdown",
   "metadata": {
    "deletable": true,
    "editable": true
   },
   "source": [
    "> **Note**: Once you have completed all of the code implementations and successfully answered each question above, you may finalize your work by exporting the iPython Notebook as an HTML document. You can do this by using the menu above and navigating to  \\n\",\n",
    "    \"**File -> Download as -> HTML (.html)**. Include the finished document along with this notebook as your submission."
   ]
  },
  {
   "cell_type": "markdown",
   "metadata": {
    "deletable": true,
    "editable": true
   },
   "source": [
    "### Project Writeup\n",
    "\n",
    "Once you have completed the code implementation, document your results in a project writeup using this [template](https://github.com/udacity/CarND-Traffic-Sign-Classifier-Project/blob/master/writeup_template.md) as a guide. The writeup can be in a markdown or pdf file. "
   ]
  }
 ],
 "metadata": {
  "anaconda-cloud": {},
  "kernelspec": {
   "display_name": "Python 3",
   "language": "python",
   "name": "python3"
  },
  "language_info": {
   "codemirror_mode": {
    "name": "ipython",
    "version": 3
   },
   "file_extension": ".py",
   "mimetype": "text/x-python",
   "name": "python",
   "nbconvert_exporter": "python",
   "pygments_lexer": "ipython3",
   "version": "3.5.1"
  }
 },
 "nbformat": 4,
 "nbformat_minor": 1
}
